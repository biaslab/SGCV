{
 "cells": [
  {
   "cell_type": "code",
   "execution_count": null,
   "metadata": {},
   "outputs": [],
   "source": [
    "using ForneyLab\n",
    "using GCV\n",
    "using ProgressMeter"
   ]
  },
  {
   "cell_type": "code",
   "execution_count": 3,
   "metadata": {},
   "outputs": [
    {
     "data": {
      "text/plain": [
       "(0.0, 10.0)"
      ]
     },
     "execution_count": 3,
     "metadata": {},
     "output_type": "execute_result"
    }
   ],
   "source": [
    "n_samples = 100\n",
    "y_data = randn(n_samples)\n",
    "\n",
    "fg = FactorGraph()\n",
    "\n",
    "κ1, κ2 = 2.0, 0.5\n",
    "@RV ω ~ GaussianMeanPrecision(1.0, huge)\n",
    "\n",
    "@RV s_t ~ Beta(placeholder(:alpha), placeholder(:beta))\n",
    "@RV b_t ~ Bernoulli(s_t)\n",
    "\n",
    "f(b) = b*κ1 + (1-b)*κ2\n",
    "@RV κ ~ Nonlinear{Sampling}(b_t,g=f)\n",
    "@RV z_t_min ~ GaussianMeanPrecision(placeholder(:mz_t_min),placeholder(:wz_t_min))\n",
    "@RV z_t ~ GaussianMeanPrecision(z_t_min, 10.0)\n",
    "@RV x_t_min ~ GaussianMeanPrecision(placeholder(:mx_t_min),placeholder(:wx_t_min))\n",
    "@RV x_t ~ GaussianControlledVariance(x_t_min, z_t, κ, ω)\n",
    "@RV y_t ~ GaussianMeanPrecision(x_t, 1.0)\n",
    "# Data placeholder\n",
    "placeholder(y_t, :y_t)\n",
    "\n",
    "q = PosteriorFactorization([z_t_min;z_t],[x_t_min;x_t], κ, ω, s_t; ids=[:Z :X :Κ :Ω :S])\n",
    "algo = messagePassingAlgorithm(free_energy=true)\n",
    "src_code = algorithmSourceCode(algo, free_energy=true)\n",
    "\n",
    "eval(Meta.parse(src_code))\n",
    "\n",
    "# Define values for prior statistics\n",
    "\n",
    "m_z = Vector{Float64}(undef, n_samples)\n",
    "w_z = Vector{Float64}(undef, n_samples)\n",
    "m_s = Vector{Float64}(undef, n_samples)\n",
    "\n",
    "m_z_t_min, w_z_t_min = 0.0, 10.0\n",
    "m_x_t_min, w_x_t_min = 0.0, 10.0"
   ]
  },
  {
   "cell_type": "code",
   "execution_count": 6,
   "metadata": {},
   "outputs": [
    {
     "data": {
      "text/plain": [
       "0.0"
      ]
     },
     "execution_count": 6,
     "metadata": {},
     "output_type": "execute_result"
    }
   ],
   "source": [
    "m_z_t_min"
   ]
  },
  {
   "cell_type": "code",
   "execution_count": 7,
   "metadata": {},
   "outputs": [
    {
     "name": "stderr",
     "output_type": "stream",
     "text": [
      "\u001b[32mProgress: 100%|█████████████████████████████████████████| Time: 0:00:19\u001b[39m\n"
     ]
    }
   ],
   "source": [
    "n_its = 10\n",
    "marginals_mf = Dict()\n",
    "F_mf = zeros(n_its,n_samples)\n",
    "@showprogress for t in 1:n_samples\n",
    "    global m_z_t_min, w_z_t_min\n",
    "    # Prepare data and prior statistics\n",
    "    data = Dict(:y_t       => y_data[t],\n",
    "                :mz_t_min => m_z_t_min,\n",
    "                :wz_t_min => w_z_t_min,\n",
    "                :mx_t_min => m_x_t_min,\n",
    "                :wx_t_min => w_x_t_min,\n",
    "                :alpha => 3.0, :beta => 1.0)\n",
    "\n",
    "    # Initial recognition distributions\n",
    "    marginals_mf[:z_t] = ProbabilityDistribution(Univariate, GaussianMeanPrecision, m=m_z_t_min, w=w_z_t_min)\n",
    "    marginals_mf[:z_t_min] = ProbabilityDistribution(Univariate, GaussianMeanPrecision, m=m_z_t_min, w=w_z_t_min)\n",
    "    marginals_mf[:b_t] = ProbabilityDistribution(Univariate, Bernoulli, p=0.5)\n",
    "    marginals_mf[:s_t] = vague(Beta)\n",
    "    marginals_mf[:κ] = vague(SampleList)\n",
    "    marginals_mf[:ω] = vague(GaussianMeanPrecision)\n",
    "\n",
    "    # Execute algorithm\n",
    "    for i = 1:n_its\n",
    "        stepX!(data, marginals_mf)\n",
    "        stepZ!(data, marginals_mf)\n",
    "        stepΚ!(data, marginals_mf)\n",
    "        stepS!(data, marginals_mf)\n",
    "        #stepΩ!(data, marginals_mf)\n",
    "        F_mf[i,t] = freeEnergy(data, marginals_mf)\n",
    "    end\n",
    "    m_z_t_min = ForneyLab.unsafeMean(marginals_mf[:z_t])\n",
    "    w_z_t_min = ForneyLab.unsafePrecision(marginals_mf[:z_t])\n",
    "    m_s_t = ForneyLab.unsafeMean(marginals_mf[:s_t])\n",
    "    m_y_t = y_data[t]\n",
    "\n",
    "    # Store to buffer\n",
    "    m_z[t] = m_z_t_min\n",
    "    w_z[t] = w_z_t_min\n",
    "    m_s[t] = m_s_t\n",
    "end\n"
   ]
  },
  {
   "cell_type": "code",
   "execution_count": 8,
   "metadata": {},
   "outputs": [
    {
     "data": {
      "text/plain": [
       "10×100 Array{Float64,2}:\n",
       " NaN  NaN  NaN  NaN  NaN  NaN  NaN  NaN  …  NaN  NaN  NaN  NaN  NaN  NaN  NaN\n",
       " NaN  NaN  NaN  NaN  NaN  NaN  NaN  NaN     NaN  NaN  NaN  NaN  NaN  NaN  NaN\n",
       " NaN  NaN  NaN  NaN  NaN  NaN  NaN  NaN     NaN  NaN  NaN  NaN  NaN  NaN  NaN\n",
       " NaN  NaN  NaN  NaN  NaN  NaN  NaN  NaN     NaN  NaN  NaN  NaN  NaN  NaN  NaN\n",
       " NaN  NaN  NaN  NaN  NaN  NaN  NaN  NaN     NaN  NaN  NaN  NaN  NaN  NaN  NaN\n",
       " NaN  NaN  NaN  NaN  NaN  NaN  NaN  NaN  …  NaN  NaN  NaN  NaN  NaN  NaN  NaN\n",
       " NaN  NaN  NaN  NaN  NaN  NaN  NaN  NaN     NaN  NaN  NaN  NaN  NaN  NaN  NaN\n",
       " NaN  NaN  NaN  NaN  NaN  NaN  NaN  NaN     NaN  NaN  NaN  NaN  NaN  NaN  NaN\n",
       " NaN  NaN  NaN  NaN  NaN  NaN  NaN  NaN     NaN  NaN  NaN  NaN  NaN  NaN  NaN\n",
       " NaN  NaN  NaN  NaN  NaN  NaN  NaN  NaN     NaN  NaN  NaN  NaN  NaN  NaN  NaN"
      ]
     },
     "execution_count": 8,
     "metadata": {},
     "output_type": "execute_result"
    }
   ],
   "source": [
    "F_mf"
   ]
  },
  {
   "cell_type": "code",
   "execution_count": null,
   "metadata": {},
   "outputs": [],
   "source": []
  }
 ],
 "metadata": {
  "kernelspec": {
   "display_name": "Julia 1.4.0",
   "language": "julia",
   "name": "julia-1.4"
  },
  "language_info": {
   "file_extension": ".jl",
   "mimetype": "application/julia",
   "name": "julia",
   "version": "1.4.0"
  }
 },
 "nbformat": 4,
 "nbformat_minor": 4
}
