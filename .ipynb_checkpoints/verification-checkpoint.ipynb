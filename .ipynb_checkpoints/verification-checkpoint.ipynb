{
 "cells": [
  {
   "cell_type": "markdown",
   "metadata": {},
   "source": [
    "### SHGF Forney-Style Factor Graph\n",
    "<img src=\"figures/SHGF-FFG.png\">"
   ]
  },
  {
   "cell_type": "markdown",
   "metadata": {},
   "source": [
    "# Retrieve research results (verification)"
   ]
  },
  {
   "cell_type": "markdown",
   "metadata": {},
   "source": [
    "To inspect the reported research results you must install the following julia packages:\n",
    "**JLD**, **PGFPlotsX**, **Plots**, **LaTeXStrings**"
   ]
  },
  {
   "cell_type": "markdown",
   "metadata": {},
   "source": [
    "Notational conventions: prefixes **m** and **v** denote mean and variance of the random variables respectively.\n",
    "\n",
    "For a sake of brevity, throughout the code we use $x$ and $z$ instead of $x^{(1)}$ and $x^{(2)}$ respectively."
   ]
  },
  {
   "cell_type": "code",
   "execution_count": 12,
   "metadata": {},
   "outputs": [],
   "source": [
    "using JLD\n",
    "using SparseArrays\n",
    "\n",
    "rfilename = \"dump/results_verification_analytic_mixture_test.jld\"\n",
    "resultsJLD = JLD.load(rfilename)\n",
    "results = resultsJLD[\"results\"];\n",
    "datasetJLD = JLD.load(\"dump/dataset_test.jld\")\n",
    "dataset = datasetJLD[\"dataset\"];"
   ]
  },
  {
   "cell_type": "code",
   "execution_count": 13,
   "metadata": {},
   "outputs": [],
   "source": [
    "index = 1\n",
    "\n",
    "mz, vz, mx, vx, ms, mω, vω,fe = results[index][\"mz\"], results[index][\"vz\"], results[index][\"mx\"], results[index][\"vx\"], results[index][\"ms\"], results[index][\"mω\"], results[index][\"vω\"], results[index][\"fe\"]\n",
    "reals = dataset[index][\"reals\"]\n",
    "obs = dataset[index][\"obs\"]\n",
    "upper_rw = dataset[index][\"rw\"]\n",
    "switches = dataset[index][\"switches\"]\n",
    "omegas = dataset[index][\"ωs\"]\n",
    "n_samples = length(obs);"
   ]
  },
  {
   "cell_type": "code",
   "execution_count": 14,
   "metadata": {},
   "outputs": [],
   "source": [
    "using PGFPlotsX, Plots\n",
    "using LaTeXStrings\n",
    "\n",
    "pgfplotsx()\n",
    "push!(PGFPlotsX.CUSTOM_PREAMBLE, raw\"\\usepgfplotslibrary{fillbetween}\");"
   ]
  },
  {
   "cell_type": "code",
   "execution_count": 21,
   "metadata": {},
   "outputs": [],
   "source": [
    "categories = [x[2] for x in findmax.(ms)]\n",
    "maxup = maximum(obs) + 3.0\n",
    "mindown = minimum(obs) - 50.0\n",
    "\n",
    "axis1 = @pgf Axis({xlabel=L\"t\",\n",
    "           ylabel=L\"x_t^{(1)}\",\n",
    "        legend_pos = \"south east\",\n",
    "        grid = \"major\",\n",
    "        title=\"Dataset $(index)\",\n",
    "    },\n",
    "    Plot(\n",
    "        {only_marks, scatter, scatter_src = \"explicit\"},\n",
    "        Table(\n",
    "            {x = \"x\", y = \"y\", meta = \"col\"},\n",
    "             x = collect(1:n_samples), y = mindown*ones(n_samples), col = categories\n",
    "        ),\n",
    "    ),\n",
    "    Plot(\n",
    "        {only_marks,scatter,scatter_src = \"explicit\"},\n",
    "        Table(\n",
    "            {x = \"x\", y = \"y\", meta = \"col\"},\n",
    "             x = collect(1:n_samples), y = obs, col = switches\n",
    "        ),\n",
    "    ),\n",
    ")\n",
    "\n",
    "pgfsave(\"figures/verification_results_mixture_recovered_switches.pdf\", axis1)"
   ]
  },
  {
   "cell_type": "code",
   "execution_count": 22,
   "metadata": {},
   "outputs": [],
   "source": [
    "FE = zeros(100)\n",
    "for i in 1:n_datasets\n",
    "    fe = results[i][\"fe\"] ./ n_samples\n",
    "    FE += fe\n",
    "end\n",
    "FE ./= (n_datasets)\n",
    "\n",
    "\n",
    "axis2 = @pgf Axis({xlabel=L\"t\",\n",
    "           ylabel=L\"x_t^{(2)}\",\n",
    "        legend_pos = \"north east\",\n",
    "    },\n",
    "    Plot({no_marks,color=\"blue\"},Coordinates(collect(1:n_samples), mz)),\n",
    "    LegendEntry(\"estimate\"),\n",
    "    Plot({ \"name path=f\", no_marks,color=\"blue\",opacity=0.2 }, Coordinates(collect(1:n_samples), mz .+  sqrt.(vz))),\n",
    "    Plot({ \"name path=g\", no_marks, color=\"blue\",opacity=0.2}, Coordinates(collect(1:n_samples), mz .-  sqrt.(vz))),\n",
    "    Plot({ thick, color = \"blue\", fill = \"blue\", opacity = 0.2 },\n",
    "               raw\"fill between [of=f and g]\"),\n",
    "\n",
    "    Plot({no_marks,color=\"green\"},Coordinates(collect(1:n_samples), upper_rw)),\n",
    "    LegendEntry(\"ground truth\"),\n",
    ")\n",
    "pgfsave(\"figures/verification_results_mixture_recovered_upper_layer.tikz\", axis2)\n",
    "\n",
    "axis3 = @pgf Axis({xlabel=\"iteration\",\n",
    "           ylabel=\"free-enery [nats]\",\n",
    "        legend_pos = \"north east\",\n",
    "        grid = \"major\",\n",
    "    },\n",
    "    Plot(Coordinates(collect(1:59),FE[2:60]))\n",
    ")\n",
    "pgfsave(\"figures/verification_results_mixture_free_energy.pdf\", axis3)\n"
   ]
  },
  {
   "cell_type": "markdown",
   "metadata": {},
   "source": [
    "### Root Mean Squared Error "
   ]
  },
  {
   "cell_type": "code",
   "execution_count": 20,
   "metadata": {},
   "outputs": [
    {
     "data": {
      "text/plain": [
       "0.1517533993297162"
      ]
     },
     "execution_count": 20,
     "metadata": {},
     "output_type": "execute_result"
    }
   ],
   "source": [
    "using StatsBase\n",
    "sum([rmsd(results[i][\"mω\"], Float64.(dataset[i][\"ωs\"]), normalize=true) for i in 1:n_datasets])/n_datasets"
   ]
  },
  {
   "cell_type": "markdown",
   "metadata": {},
   "source": [
    "# Implemetation"
   ]
  },
  {
   "cell_type": "markdown",
   "metadata": {},
   "source": [
    "To run the inference, the following packages must be installed:\n",
    "**ForneyLab**, **GCV**, **ProgressMeter**"
   ]
  },
  {
   "cell_type": "code",
   "execution_count": 1,
   "metadata": {},
   "outputs": [],
   "source": [
    "using Revise\n",
    "using ForneyLab\n",
    "include(\"sgcv/SGCV.jl\")\n",
    "using Main.SGCV\n",
    "include(\"gcv/GCV.jl\")\n",
    "using Main.GCV\n",
    "include(\"compatibility.jl\") # resolves compatibility issues with ForneyLab\n",
    "using SparseArrays\n",
    "using ProgressMeter;"
   ]
  },
  {
   "cell_type": "code",
   "execution_count": 2,
   "metadata": {},
   "outputs": [
    {
     "data": {
      "text/plain": [
       "pad (generic function with 1 method)"
      ]
     },
     "execution_count": 2,
     "metadata": {},
     "output_type": "execute_result"
    }
   ],
   "source": [
    "# Auxialry function for graph initializtion\n",
    "pad(sym::Symbol, t::Int) = sym*:_*Symbol(lpad(t,3,'0')) # Left-pads a number with zeros, converts it to symbol and appends to sym"
   ]
  },
  {
   "cell_type": "code",
   "execution_count": 3,
   "metadata": {},
   "outputs": [
    {
     "data": {
      "text/plain": [
       "generate_mp (generic function with 1 method)"
      ]
     },
     "execution_count": 3,
     "metadata": {},
     "output_type": "execute_result"
    }
   ],
   "source": [
    "# Function for generating graph and message-passing (MP) algorithm\n",
    "function generate_mp(ndim, n_samples)\n",
    "    # Initialize FFG\n",
    "    fg = FactorGraph()\n",
    "    z = Vector{Variable}(undef, n_samples)\n",
    "    x = Vector{Variable}(undef, n_samples)\n",
    "    y = Vector{Variable}(undef, n_samples)\n",
    "    s = Vector{Variable}(undef, n_samples)\n",
    "    @RV A ~ Dirichlet(ones(ndim, ndim))\n",
    "    @RV ω ~ GaussianMeanPrecision(placeholder(:mω, dims=(ndim, )), placeholder(:wω, dims=(ndim, ndim)))\n",
    "    @RV [id=pad(:z,1)] z[1] ~ GaussianMeanPrecision(placeholder(:mz_prior1), placeholder(:wz_prior1))\n",
    "    @RV [id=pad(:x,1)] x[1] ~ GaussianMeanPrecision(placeholder(:mx_prior1), placeholder(:wx_prior1))\n",
    "    @RV [id=pad(:y,1)] y[1] ~ GaussianMeanPrecision(x[1], placeholder(:wy_prior1))\n",
    "    @RV [id=pad(:s,1)] s[1] ~ ForneyLab.Categorical(ones(ndim) ./ ndim)\n",
    "    placeholder(y[1], :y, index = 1)\n",
    "    for t in 2:n_samples\n",
    "        @RV [id=pad(:s,t)] s[t] ~ Transition(s[t-1], A)\n",
    "        @RV [id=pad(:z,t)] z[t] ~ GaussianMeanPrecision(z[t - 1], placeholder(pad(:wz_transition, t)))\n",
    "        @RV [id=pad(:x,t)] x[t] ~ SwitchingGaussianControlledVariance(x[t - 1], z[t],ones(ndim),ω,s[t])\n",
    "        @RV [id=pad(:y,t)] y[t] ~ GaussianMeanPrecision(x[t], placeholder(pad(:wy_transition, t)))\n",
    "        placeholder(y[t], :y, index = t)\n",
    "    end\n",
    "    # Initialize recognition distribution\n",
    "    q = PosteriorFactorization(x, z ,s, A, ω, ids=[:X :Z :S :A :Ω])\n",
    "    # Create algorithm\n",
    "    algo = messagePassingAlgorithm(free_energy=true)\n",
    "    src_code = algorithmSourceCode(algo, free_energy=true);\n",
    "    return src_code\n",
    "end"
   ]
  },
  {
   "cell_type": "code",
   "execution_count": 4,
   "metadata": {},
   "outputs": [
    {
     "data": {
      "text/plain": [
       "mp (generic function with 1 method)"
      ]
     },
     "execution_count": 4,
     "metadata": {},
     "output_type": "execute_result"
    }
   ],
   "source": [
    "# Function for running MP-based inference\n",
    "function mp(obs;\n",
    "    ndims,\n",
    "    n_its = 100,\n",
    "    wy_prior1 = 1.0,\n",
    "    κ_m_prior = ones(ndims),\n",
    "    ω_m_prior = omegas,\n",
    "    κ_w_prior =  huge .* diageye(ndims),\n",
    "    ω_w_prior = 1.0 .* diageye(ndims),\n",
    "    z_m_prior = 0.0,\n",
    "    z_w_prior = 10.0,\n",
    "    x_m_prior = 0.0,\n",
    "    x_w_prior = 1.0,\n",
    "    x_x_m_prior = zeros(ndims),\n",
    "    x_x_w_prior = 1.0*diageye(ndims),\n",
    "    z_z_m_prior = zeros(ndims),\n",
    "    z_z_w_prior = 10.0*diageye(ndims),\n",
    "    z_w_transition_prior = 1000.0,\n",
    "    y_w_transition_prior =  1/mnv,\n",
    ")\n",
    "\n",
    "    # Initialize dictionary to store marginal distributions\n",
    "    marginals = Dict()\n",
    "    marginals[:A] = ProbabilityDistribution(ForneyLab.MatrixVariate, Dirichlet, a=ones(ndims, ndims))\n",
    "    marginals[:κ] = ProbabilityDistribution(ForneyLab.Multivariate, GaussianMeanPrecision, m = κ_m_prior, w = κ_w_prior)\n",
    "    marginals[:ω] = ProbabilityDistribution(ForneyLab.Multivariate, GaussianMeanPrecision, m = ω_m_prior, w = ω_w_prior)\n",
    "    marginals[pad(:z,1)] = vague(GaussianMeanPrecision)\n",
    "    marginals[pad(:x,1)] = vague(GaussianMeanPrecision)\n",
    "    marginals[pad(:s,1)] = vague(Categorical, ndims)\n",
    "    for t = 2:n_samples\n",
    "        marginals[pad(:z,t)] = ProbabilityDistribution(ForneyLab.Univariate, GaussianMeanPrecision, m = z_m_prior, w = z_w_prior)\n",
    "        marginals[pad(:x,t)] = ProbabilityDistribution(ForneyLab.Univariate, GaussianMeanPrecision, m = x_m_prior, w = x_w_prior)\n",
    "        marginals[pad(:s,t)] = ProbabilityDistribution(Categorical, p = ones(ndims) ./ ndims)\n",
    "        marginals[pad(:s,t)*:_*pad(:s,t-1)] = ProbabilityDistribution(Contingency,p=ones(ndims, ndims) ./ ndims)\n",
    "        marginals[pad(:z,t)*:_*pad(:z,t-1)] = ProbabilityDistribution(ForneyLab.Multivariate,GaussianMeanPrecision, m = z_z_m_prior, w = z_z_w_prior)\n",
    "        marginals[pad(:x,t)*:_*pad(:x,t-1)] = ProbabilityDistribution(ForneyLab.Multivariate,GaussianMeanPrecision, m = x_x_m_prior, w = x_x_w_prior)\n",
    "    end\n",
    "    \n",
    "    # Initialize dicitionary to store observations and priors\n",
    "    data = Dict()\n",
    "    data[:y] = obs\n",
    "    data[:mz_prior1] = z_m_prior\n",
    "    data[:wz_prior1] = z_w_prior\n",
    "    data[:mx_prior1] = x_m_prior\n",
    "    data[:wx_prior1] = x_w_prior\n",
    "    data[:wy_prior1] = wy_prior1\n",
    "\n",
    "    data[:mω] = ω_m_prior\n",
    "    data[:wω] = ω_w_prior\n",
    "    for t = 1:n_samples\n",
    "        data[pad(:wz_transition, t)] = z_w_transition_prior\n",
    "        data[pad(:wy_transition, t)] = y_w_transition_prior\n",
    "    end\n",
    "\n",
    "    # Initialize array to store free-energy values\n",
    "    fe = Vector{Float64}(undef, n_its)\n",
    "    \n",
    "    # MP loop\n",
    "    for i = 1:n_its\n",
    "\n",
    "        stepX!(data, marginals)\n",
    "        stepS!(data, marginals)\n",
    "        stepA!(data, marginals)\n",
    "        stepZ!(data, marginals)\n",
    "        stepΩ!(data, marginals)\n",
    "\n",
    "        fe[i] = freeEnergy(data, marginals)\n",
    "    end\n",
    "\n",
    "    # Extract inferred marginals\n",
    "    mz = [ForneyLab.unsafeMean(marginals[pad(:z,t)]) for t=1:n_samples]\n",
    "    vz = [ForneyLab.unsafeVar(marginals[pad(:z,t)]) for t=1:n_samples]\n",
    "    mx = [ForneyLab.unsafeMean(marginals[pad(:x,t)]) for t=1:n_samples]\n",
    "    vx = [ForneyLab.unsafeVar(marginals[pad(:x,t)]) for t=1:n_samples]\n",
    "    ms = [ForneyLab.unsafeMean(marginals[pad(:s,t)]) for t=1:n_samples]\n",
    "    mω = ForneyLab.unsafeMean(marginals[:ω])\n",
    "    vω = ForneyLab.unsafeCov(marginals[:ω])\n",
    "    return mz,vz,mx,vx,ms, mω, vω, fe\n",
    "end"
   ]
  },
  {
   "cell_type": "code",
   "execution_count": 5,
   "metadata": {},
   "outputs": [],
   "source": [
    "# Generate data (we used 42 as a Random seed)\n",
    "include(\"generator.jl\")"
   ]
  },
  {
   "cell_type": "code",
   "execution_count": 6,
   "metadata": {},
   "outputs": [
    {
     "data": {
      "text/plain": [
       "freeEnergy (generic function with 1 method)"
      ]
     },
     "execution_count": 6,
     "metadata": {},
     "output_type": "execute_result"
    }
   ],
   "source": [
    "# Generate MP algorithm\n",
    "code = generate_mp(n_cats, n_samples)\n",
    "eval(Meta.parse(code))"
   ]
  },
  {
   "cell_type": "code",
   "execution_count": 7,
   "metadata": {},
   "outputs": [],
   "source": [
    "# Dictionary for storing the results\n",
    "results = Dict()\n",
    "\n",
    "@showprogress \"Datasets\" for i in 1:n_datasets\n",
    "    obs = dataset[i][\"obs\"]\n",
    "    mnv = dataset[i][\"nv\"]\n",
    "    omegas = dataset[i][\"ωs\"] .+ sqrt(1.0)*randn(length(dataset[i][\"ωs\"]))\n",
    "    try\n",
    "        mz,vz,mx,vx,ms, mω, vω,fe = mp(obs, ndims=n_cats, ω_m_prior=omegas,\n",
    "                                      ω_w_prior=diageye(n_cats),\n",
    "                                      y_w_transition_prior=1/mnv)\n",
    "        results[i] = Dict(\"mz\" => mz, \"vz\" => vz,\n",
    "                          \"mx\" => mx, \"vx\" => vx,\n",
    "                          \"ms\" => ms, \"fe\" => fe,\n",
    "                          \"mω\" => mω, \"vω\" => vω,\n",
    "                          \"ωprior\" => omegas)\n",
    "    catch e\n",
    "           println(\"Failed $(i)\")\n",
    "    end\n",
    "end"
   ]
  },
  {
   "cell_type": "code",
   "execution_count": 11,
   "metadata": {},
   "outputs": [],
   "source": [
    "using JLD\n",
    "# Saving results and data\n",
    "# You can use the saved files inside \"Retrieve research results\" section\n",
    "rfilename = \"dump/results_verification_analytic_mixture_test.jld\"\n",
    "dfilename = \"dump/dataset_test.jld\"\n",
    "JLD.save(rfilename, \"results\", results)\n",
    "JLD.save(dfilename, \"dataset\", dataset)"
   ]
  },
  {
   "cell_type": "code",
   "execution_count": null,
   "metadata": {},
   "outputs": [],
   "source": []
  }
 ],
 "metadata": {
  "kernelspec": {
   "display_name": "Julia 1.6.0",
   "language": "julia",
   "name": "julia-1.6"
  },
  "language_info": {
   "file_extension": ".jl",
   "mimetype": "application/julia",
   "name": "julia",
   "version": "1.6.0"
  }
 },
 "nbformat": 4,
 "nbformat_minor": 4
}
